{
 "cells": [
  {
   "cell_type": "code",
   "execution_count": 19,
   "metadata": {},
   "outputs": [],
   "source": [
    "from ultralytics import YOLO\n",
    "from PIL import Image"
   ]
  },
  {
   "cell_type": "code",
   "execution_count": 22,
   "metadata": {},
   "outputs": [
    {
     "name": "stderr",
     "output_type": "stream",
     "text": [
      "<>:1: SyntaxWarning: invalid escape sequence '\\Y'\n",
      "<>:1: SyntaxWarning: invalid escape sequence '\\Y'\n",
      "C:\\Users\\TGSUser172\\AppData\\Local\\Temp\\ipykernel_7084\\70035345.py:1: SyntaxWarning: invalid escape sequence '\\Y'\n",
      "  model_path = \"scripts\\YOLOv8s-ver6-2111.onnx\" #good for motor bike\n"
     ]
    }
   ],
   "source": [
    "model_path = \"scripts\\YOLOv8s-ver6-2111.onnx\" #good for motor bike\n"
   ]
  },
  {
   "cell_type": "code",
   "execution_count": 23,
   "metadata": {},
   "outputs": [],
   "source": [
    "model = YOLO(model_path, task='detect')"
   ]
  },
  {
   "cell_type": "code",
   "execution_count": 24,
   "metadata": {},
   "outputs": [],
   "source": [
    "# image = Image.open('test_images\\sample.png')\n",
    "# new_image = image.resize((500, 500))\n",
    "# new_image.save('image_thumbnail.jpg')\n",
    "\n"
   ]
  },
  {
   "cell_type": "code",
   "execution_count": 27,
   "metadata": {},
   "outputs": [
    {
     "name": "stdout",
     "output_type": "stream",
     "text": [
      "\n",
      "image 1/1 d:\\Kushagra\\MotorSafety\\helmetDetection\\test_images\\sample.jpeg: 416x416 3 not_wears, 3 wears, 44.0ms\n",
      "Speed: 1.0ms preprocess, 44.0ms inference, 1.0ms postprocess per image at shape (1, 3, 416, 416)\n",
      "Results saved to \u001b[1md:\\Kushagra\\MotorSafety\\helmetDetection\\runs\\detect\\predict4\u001b[0m\n"
     ]
    },
    {
     "name": "stderr",
     "output_type": "stream",
     "text": [
      "<>:1: SyntaxWarning: invalid escape sequence '\\s'\n",
      "<>:1: SyntaxWarning: invalid escape sequence '\\s'\n",
      "C:\\Users\\TGSUser172\\AppData\\Local\\Temp\\ipykernel_7084\\1787697435.py:1: SyntaxWarning: invalid escape sequence '\\s'\n",
      "  model.predict('test_images\\sample.jpeg', imgsz=(416, 416), save=True, conf=0.5)\n"
     ]
    },
    {
     "data": {
      "text/plain": [
       "[ultralytics.engine.results.Results object with attributes:\n",
       " \n",
       " boxes: ultralytics.engine.results.Boxes object\n",
       " keypoints: None\n",
       " masks: None\n",
       " names: {0: 'not_wear', 1: 'wear'}\n",
       " obb: None\n",
       " orig_img: array([[[196, 228, 209],\n",
       "         [196, 227, 212],\n",
       "         [196, 225, 216],\n",
       "         ...,\n",
       "         [ 39,  52,  28],\n",
       "         [ 33,  45,  17],\n",
       "         [ 23,  35,   5]],\n",
       " \n",
       "        [[191, 208, 171],\n",
       "         [190, 207, 174],\n",
       "         [191, 204, 178],\n",
       "         ...,\n",
       "         [ 36,  46,  23],\n",
       "         [ 52,  64,  36],\n",
       "         [ 67,  77,  47]],\n",
       " \n",
       "        [[216, 201, 132],\n",
       "         [214, 201, 133],\n",
       "         [216, 198, 137],\n",
       "         ...,\n",
       "         [ 55,  63,  40],\n",
       "         [ 73,  80,  53],\n",
       "         [ 82,  90,  60]],\n",
       " \n",
       "        ...,\n",
       " \n",
       "        [[179, 177, 166],\n",
       "         [179, 177, 166],\n",
       "         [179, 177, 166],\n",
       "         ...,\n",
       "         [113, 120, 115],\n",
       "         [117, 124, 119],\n",
       "         [120, 127, 122]],\n",
       " \n",
       "        [[180, 178, 167],\n",
       "         [180, 178, 167],\n",
       "         [180, 178, 167],\n",
       "         ...,\n",
       "         [127, 134, 129],\n",
       "         [125, 132, 127],\n",
       "         [124, 131, 126]],\n",
       " \n",
       "        [[180, 178, 167],\n",
       "         [180, 178, 167],\n",
       "         [180, 178, 167],\n",
       "         ...,\n",
       "         [122, 129, 124],\n",
       "         [120, 127, 122],\n",
       "         [118, 125, 120]]], dtype=uint8)\n",
       " orig_shape: (448, 800)\n",
       " path: 'd:\\\\Kushagra\\\\MotorSafety\\\\helmetDetection\\\\test_images\\\\sample.jpeg'\n",
       " probs: None\n",
       " save_dir: 'd:\\\\Kushagra\\\\MotorSafety\\\\helmetDetection\\\\runs\\\\detect\\\\predict4'\n",
       " speed: {'preprocess': 1.001119613647461, 'inference': 43.99251937866211, 'postprocess': 1.0008811950683594}]"
      ]
     },
     "execution_count": 27,
     "metadata": {},
     "output_type": "execute_result"
    }
   ],
   "source": [
    "model.predict('test_images\\sample.jpeg', imgsz=(416, 416), save=True, conf=0.5)\n"
   ]
  },
  {
   "cell_type": "code",
   "execution_count": null,
   "metadata": {},
   "outputs": [],
   "source": []
  }
 ],
 "metadata": {
  "kernelspec": {
   "display_name": ".venv",
   "language": "python",
   "name": "python3"
  },
  "language_info": {
   "codemirror_mode": {
    "name": "ipython",
    "version": 3
   },
   "file_extension": ".py",
   "mimetype": "text/x-python",
   "name": "python",
   "nbconvert_exporter": "python",
   "pygments_lexer": "ipython3",
   "version": "3.12.3"
  }
 },
 "nbformat": 4,
 "nbformat_minor": 2
}
